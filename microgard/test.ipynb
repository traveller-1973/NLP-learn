{
 "cells": [
  {
   "cell_type": "code",
   "execution_count": 1,
   "metadata": {},
   "outputs": [],
   "source": [
    "import math\n",
    "import numpy as np\n",
    "import matplotlib.pyplot as plt\n",
    "%matplotlib inline\n",
    "from graphviz import Digraph\n",
    "import random\n",
    "from Value import Value\n",
    "from Network import mlp"
   ]
  },
  {
   "cell_type": "code",
   "execution_count": 2,
   "metadata": {},
   "outputs": [],
   "source": [
    "def trace(root):\n",
    "    nodes,edges=set(),set()\n",
    "    def build(n):\n",
    "        if n not in nodes:\n",
    "            nodes.add(n)\n",
    "            for child in n._prev:\n",
    "                edges.add((child,n))\n",
    "                build(child)\n",
    "    build(root)\n",
    "    return nodes,edges\n",
    "\n",
    "def draw_dot(root, format='svg', rankdir='LR'):\n",
    "    assert rankdir in ['LR', 'TB']\n",
    "    nodes, edges = trace(root)\n",
    "    dot = Digraph(format=format, graph_attr={'rankdir': rankdir}) #, node_attr={'rankdir': 'TB'})\n",
    "    \n",
    "    for n in nodes:\n",
    "        uid=str(id(n))\n",
    "        dot.node(name=uid, label = \"{ %s | data %.4f | grad %.4f}\" % (n.label,n.data,n.grad), shape='record', width='0.5', height='0.5')\n",
    "        if n._op:\n",
    "            dot.node(name=uid + n._op, label=n._op, width='0.5', height='0.5')\n",
    "            dot.edge(uid + n._op, uid)\n",
    "    \n",
    "    for n1, n2 in edges:\n",
    "        dot.edge(str(id(n1)), str(id(n2)) + n2._op)\n",
    "    \n",
    "    return dot"
   ]
  },
  {
   "cell_type": "code",
   "execution_count": 3,
   "metadata": {},
   "outputs": [],
   "source": [
    "model=mlp(3,[4,4,1])\n",
    "xs=[\n",
    "    [2,3,-1],\n",
    "    [3,-1,0.5],\n",
    "    [0.5,1,1],\n",
    "    [1,1,-1]\n",
    "]\n",
    "ys=[1,-1,-1,1]\n"
   ]
  },
  {
   "cell_type": "code",
   "execution_count": 4,
   "metadata": {},
   "outputs": [
    {
     "name": "stdout",
     "output_type": "stream",
     "text": [
      "2.86525826245812\n",
      "0.6007808071949298\n",
      "0.4061887356363051\n",
      "0.20380593420990561\n",
      "0.09755716977997432\n",
      "0.0792666885318721\n",
      "0.06675717164351228\n",
      "0.05745657198956426\n",
      "0.05027787024618666\n",
      "0.04458386221966808\n"
     ]
    }
   ],
   "source": [
    "for k in range(10):\n",
    "    # forward\n",
    "    ypred=[model(x) for x in xs]\n",
    "    # 均方差损失\n",
    "    loss=sum([(yout-y)**2 for yout,y in zip(ypred,ys)])\n",
    "\n",
    "    # backword\n",
    "    model.zero_grad()\n",
    "    loss.backword()\n",
    "\n",
    "    # update\n",
    "    learning_rate = 0.1\n",
    "    for p in model.parameters():\n",
    "        p.data -= learning_rate * p.grad\n",
    "    print(loss.data)"
   ]
  },
  {
   "cell_type": "code",
   "execution_count": 6,
   "metadata": {},
   "outputs": [
    {
     "data": {
      "text/plain": [
       "[Value(data=0.927745757482087),\n",
       " Value(data=-0.914295254200722),\n",
       " Value(data=-0.8765420408559343),\n",
       " Value(data=0.8897266950213907)]"
      ]
     },
     "execution_count": 6,
     "metadata": {},
     "output_type": "execute_result"
    }
   ],
   "source": [
    "ypred=[model(x) for x in xs]\n",
    "ypred"
   ]
  },
  {
   "cell_type": "code",
   "execution_count": null,
   "metadata": {},
   "outputs": [],
   "source": [
    "a=Value(2.0,label='a')\n",
    "b=Value(3.0,label='b')\n",
    "c=a**3\n",
    "\n",
    "c.backword()\n",
    "draw_dot(c)"
   ]
  },
  {
   "cell_type": "code",
   "execution_count": null,
   "metadata": {},
   "outputs": [],
   "source": [
    "x1=Value(2.0, label='x1')\n",
    "x2=Value(0.0, label='x2')\n",
    "\n",
    "w1=Value(-3.0, label='w1')\n",
    "w2=Value(1.0, label='w2')\n",
    "\n",
    "b=Value(6.8813735870195432, label='b')\n",
    "\n",
    "x1w1=x1*w1; x1w1.label='x1*w1'\n",
    "x2w2=x2*w2; x2w2.label='x2*w2'\n",
    "\n",
    "x1w1x2w2=x1w1+x2w2; x1w1x2w2.label='x1*w1+x2*w2'\n",
    "\n",
    "n=x1w1x2w2+b; n.label='n'\n",
    "\n",
    "o=n.tanh(); o.label='o'\n",
    "\n",
    "o.backword()\n",
    "draw_dot(o)"
   ]
  },
  {
   "cell_type": "code",
   "execution_count": null,
   "metadata": {},
   "outputs": [],
   "source": [
    "x1=Value(2.0, label='x1')\n",
    "x2=Value(0.0, label='x2')\n",
    "\n",
    "w1=Value(-3.0, label='w1')\n",
    "w2=Value(1.0, label='w2')\n",
    "\n",
    "b=Value(6.8813735870195432, label='b')\n",
    "\n",
    "x1w1=x1*w1; x1w1.label='x1*w1'\n",
    "x2w2=x2*w2; x2w2.label='x2*w2'\n",
    "\n",
    "x1w1x2w2=x1w1+x2w2; x1w1x2w2.label='x1*w1+x2*w2'\n",
    "\n",
    "n=x1w1x2w2+b; n.label='n'\n",
    "\n",
    "e=(2*n).exp(); e.label='e'\n",
    "o=(e-1)/(e+1); o.label='o'\n",
    "\n",
    "o.backword()\n",
    "draw_dot(o)"
   ]
  },
  {
   "cell_type": "code",
   "execution_count": 7,
   "metadata": {},
   "outputs": [],
   "source": []
  }
 ],
 "metadata": {
  "kernelspec": {
   "display_name": "test",
   "language": "python",
   "name": "python3"
  },
  "language_info": {
   "codemirror_mode": {
    "name": "ipython",
    "version": 3
   },
   "file_extension": ".py",
   "mimetype": "text/x-python",
   "name": "python",
   "nbconvert_exporter": "python",
   "pygments_lexer": "ipython3",
   "version": "3.10.8"
  }
 },
 "nbformat": 4,
 "nbformat_minor": 2
}
